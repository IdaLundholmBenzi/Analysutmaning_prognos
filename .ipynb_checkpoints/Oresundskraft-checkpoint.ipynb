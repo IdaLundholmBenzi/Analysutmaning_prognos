{
 "cells": [
  {
   "cell_type": "markdown",
   "metadata": {},
   "source": [
    "Förklaring från Alexei om val av att ha json i snowflake:\n",
    "\n",
    "Grejen är att metering_point och meter_reading data kan uppdateras i efterhand. T.ex. det finns c1-c5 koefficienterna som kan tillkomma, väderdata, standardavvikelse på mätningen, etc. Problemet är att detta kan hända rätt ofta i fortsättningen och update operationen är tidskrävande. Samtidigt kan datamodellen ändras, osannolikt men möjligt. Då skulle man behöva designa om tabellerna. Därför valde vi att lagra allt data som kommer istället och skapa endast de viktigaste kolumnerna som behövs för att skapa views. Du kan fortfarande köra queries mot json som om det vore SQL. Det är fördelen med snowflake - https://docs.snowflake.com/en/user-guide/querying-semistructured.html"
   ]
  },
  {
   "cell_type": "markdown",
   "metadata": {},
   "source": [
    "Hämta all öresundskraft data för property=energi, formattera med rätt dataformat direkt i sql"
   ]
  },
  {
   "cell_type": "code",
   "execution_count": 2,
   "metadata": {},
   "outputs": [
    {
     "data": {
      "text/plain": [
       "<pyodbc.Cursor at 0x201728235b0>"
      ]
     },
     "execution_count": 2,
     "metadata": {},
     "output_type": "execute_result"
    }
   ],
   "source": [
    "import pyodbc\n",
    "\n",
    "#Using connection string to connect to the datalake\n",
    "connection = pyodbc.connect(\"Driver={SnowflakeDSIIDriver}; Server=lq42418.eu-west-1.snowflakecomputing.com; Database=SMARTENERGI_DATALAKE; schema=public; UID=smartenergi_public_user; PWD=SmartEnergi2020!\")\n",
    "cus=connection.cursor()\n",
    "\n",
    "#Executing the query on meter readings view\n",
    "cus.execute(\"use warehouse compute_wh;\")\n",
    "select_stmt = \"\"\"SELECT date(SRC:timestamp::datetime) as timestamp, SRC:metering_point_id::string as metering_point_id, sum(SRC:value::integer) as value, SRC:unit_of_measure::string as unit_of_measure\n",
    "FROM \\\"SMARTENERGI_DATALAKE\\\".\\\"PUBLIC\\\".\\\"METER_READINGS\\\" \n",
    "WHERE PROPERTY = \\'energy\\' and SRC:source_instance_name like \\'%oresundskraft%\\'\n",
    "group by date(SRC:timestamp::datetime), SRC:metering_point_id, SRC:unit_of_measure\"\"\"\n",
    "        \n",
    "cus.execute(select_stmt)\n"
   ]
  },
  {
   "cell_type": "markdown",
   "metadata": {},
   "source": [
    "Hämta data"
   ]
  },
  {
   "cell_type": "code",
   "execution_count": 3,
   "metadata": {},
   "outputs": [],
   "source": [
    "data = cus.fetchall()"
   ]
  },
  {
   "cell_type": "markdown",
   "metadata": {},
   "source": [
    "Hämta direkt som pandas data frame"
   ]
  },
  {
   "cell_type": "code",
   "execution_count": 6,
   "metadata": {},
   "outputs": [],
   "source": [
    "import pandas as pd\n",
    "df = pd.read_sql(select_stmt,connection)"
   ]
  },
  {
   "cell_type": "code",
   "execution_count": 7,
   "metadata": {},
   "outputs": [
    {
     "data": {
      "text/html": [
       "<div>\n",
       "<style scoped>\n",
       "    .dataframe tbody tr th:only-of-type {\n",
       "        vertical-align: middle;\n",
       "    }\n",
       "\n",
       "    .dataframe tbody tr th {\n",
       "        vertical-align: top;\n",
       "    }\n",
       "\n",
       "    .dataframe thead th {\n",
       "        text-align: right;\n",
       "    }\n",
       "</style>\n",
       "<table border=\"1\" class=\"dataframe\">\n",
       "  <thead>\n",
       "    <tr style=\"text-align: right;\">\n",
       "      <th></th>\n",
       "      <th>TIMESTAMP</th>\n",
       "      <th>METERING_POINT_ID</th>\n",
       "      <th>VALUE</th>\n",
       "      <th>UNIT_OF_MEASURE</th>\n",
       "    </tr>\n",
       "  </thead>\n",
       "  <tbody>\n",
       "    <tr>\n",
       "      <th>0</th>\n",
       "      <td>2014-02-15</td>\n",
       "      <td>b0455402-7070-11ea-ae00-062fc13530dc</td>\n",
       "      <td>97.0</td>\n",
       "      <td>MWh</td>\n",
       "    </tr>\n",
       "    <tr>\n",
       "      <th>1</th>\n",
       "      <td>2014-02-09</td>\n",
       "      <td>b0455402-7070-11ea-ae00-062fc13530dc</td>\n",
       "      <td>114.0</td>\n",
       "      <td>MWh</td>\n",
       "    </tr>\n",
       "    <tr>\n",
       "      <th>2</th>\n",
       "      <td>2017-02-26</td>\n",
       "      <td>7dc01c3c-7071-11ea-ae00-062fc13530dc</td>\n",
       "      <td>59.0</td>\n",
       "      <td>MWh</td>\n",
       "    </tr>\n",
       "    <tr>\n",
       "      <th>3</th>\n",
       "      <td>2017-04-10</td>\n",
       "      <td>7dc01c3c-7071-11ea-ae00-062fc13530dc</td>\n",
       "      <td>44.0</td>\n",
       "      <td>MWh</td>\n",
       "    </tr>\n",
       "    <tr>\n",
       "      <th>4</th>\n",
       "      <td>2017-05-11</td>\n",
       "      <td>7dc01c3c-7071-11ea-ae00-062fc13530dc</td>\n",
       "      <td>45.0</td>\n",
       "      <td>MWh</td>\n",
       "    </tr>\n",
       "  </tbody>\n",
       "</table>\n",
       "</div>"
      ],
      "text/plain": [
       "    TIMESTAMP                     METERING_POINT_ID  VALUE UNIT_OF_MEASURE\n",
       "0  2014-02-15  b0455402-7070-11ea-ae00-062fc13530dc   97.0             MWh\n",
       "1  2014-02-09  b0455402-7070-11ea-ae00-062fc13530dc  114.0             MWh\n",
       "2  2017-02-26  7dc01c3c-7071-11ea-ae00-062fc13530dc   59.0             MWh\n",
       "3  2017-04-10  7dc01c3c-7071-11ea-ae00-062fc13530dc   44.0             MWh\n",
       "4  2017-05-11  7dc01c3c-7071-11ea-ae00-062fc13530dc   45.0             MWh"
      ]
     },
     "execution_count": 7,
     "metadata": {},
     "output_type": "execute_result"
    }
   ],
   "source": [
    "df.head()"
   ]
  }
 ],
 "metadata": {
  "kernelspec": {
   "display_name": "",
   "name": ""
  },
  "language_info": {
   "codemirror_mode": {
    "name": "ipython",
    "version": 3
   },
   "file_extension": ".py",
   "mimetype": "text/x-python",
   "name": "python",
   "nbconvert_exporter": "python",
   "pygments_lexer": "ipython3",
   "version": "3.7.7"
  }
 },
 "nbformat": 4,
 "nbformat_minor": 4
}
