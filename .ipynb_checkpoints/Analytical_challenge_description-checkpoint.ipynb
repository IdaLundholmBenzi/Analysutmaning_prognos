{
 "cells": [
  {
   "cell_type": "markdown",
   "metadata": {},
   "source": [
    "# Analytical Challenge: Who can do the best prognosis on district heating data?\n",
    "\n",
    "Description of problem\n",
    "\n",
    "Many Energy companies perform forecasts on the energy usage of their customers in order to forsee coming changes in demand. Space heating is one of the main components of energy usage which is highly dependent on out door temperature, also ventilation is dependent on out door temperature. In a country with strong seasons like sweden we therefore see a strong relationship between season and energy consumption. Weather forecasts can be used for a short term forecast of energy consumption. \n",
    "Warm water usage instead has little correlation with outdoor temperature and tend to be more stable when looking at daily averages.\n",
    "\n",
    "A\n",
    "It is easier to build individual models for individual district heating substations \n",
    "Vad använder energiföretagen prognoser till idag? budgetering? Vilken tidshorisont är intressant? energi och flöde? Bygger man modeller på enskilda stationer eller flera?\n",
    "\n",
    "Intressant att inom Brava få insyn kring hur olika företag arbetar med prognoser, dela kunskap\n",
    "\n",
    "The data and where to find it\n",
    "\n",
    "## The analytical challenge\n",
    "The data provided includes daily energy consumption as well as the daily average outdoor temperature for X test substations. The challenge is to build a forecast model for the substations that predict energy consumption 30 days forward in time. The data provided contains energy consumption until XXXdateXXX but the results will be evaluated on the date range XXXdateXXX + 30 days, data not shared with competitors until the challenge is over. The prediction with the lowest rmse (?) for the 30 day period wins.\n",
    "\n",
    "The answer of this analytical challenge should be uploaded as a notebook to the Data Science portal describing the method and results. Preferbly you will use Python or R or any language that can run i Jupyter Notebook to solve this problem. Accompaning the notebook a csv file with the forecasted energy consumption data for the dates xx-yy shall be sent to ida.lundholm-benzi@ferrologic.se for evaluation. The winner of the challenge will be revealed the date and apart of the glory be awarded with ???.\n",
    "\n",
    "\n"
   ]
  }
 ],
 "metadata": {
  "kernelspec": {
   "display_name": "Python 3",
   "language": "python",
   "name": "python3"
  },
  "language_info": {
   "codemirror_mode": {
    "name": "ipython",
    "version": 3
   },
   "file_extension": ".py",
   "mimetype": "text/x-python",
   "name": "python",
   "nbconvert_exporter": "python",
   "pygments_lexer": "ipython3",
   "version": "3.7.4"
  }
 },
 "nbformat": 4,
 "nbformat_minor": 4
}
